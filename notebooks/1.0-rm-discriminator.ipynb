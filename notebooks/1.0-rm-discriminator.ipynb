{
 "cells": [
  {
   "cell_type": "code",
   "execution_count": 2,
   "metadata": {
    "collapsed": true,
    "pycharm": {
     "name": "#%%\n"
    }
   },
   "outputs": [],
   "source": [
    "import torch\n",
    "from torch import nn"
   ]
  },
  {
   "cell_type": "code",
   "execution_count": 14,
   "outputs": [
    {
     "name": "stdout",
     "output_type": "stream",
     "text": [
      "torch.Size([64, 16])\n"
     ]
    }
   ],
   "source": [
    "class FeedbackModule(nn.Module):\n",
    "    def __init__(self):\n",
    "        super().__init__()\n",
    "        self.softmax = nn.Softmax(dim=1)\n",
    "\n",
    "    def forward(self, v, w):\n",
    "        w = torch.transpose(w, 1, 2)\n",
    "        m = w @ v\n",
    "        m_norm_l = nn.functional.normalize(m, dim=1)\n",
    "        m_norm_hw = nn.functional.normalize(m_norm_l, dim=2)\n",
    "        m_norm_hw = torch.transpose(m_norm_hw, 1, 2)\n",
    "        n = v @ m_norm_hw\n",
    "        n = torch.sum(n, dim=1)\n",
    "        delta = self.softmax(n)\n",
    "        return delta\n",
    "\n",
    "class Discriminator(nn.Module):\n",
    "    def __init__(self, img_size = 256, n_blocks = 5):\n",
    "        super().__init__()\n",
    "        self.convs = nn.Sequential(*[\n",
    "            self.conv_block(in_chans, out_chans)\n",
    "            for in_chans, out_chans in [\n",
    "                (3, 5), (5, 7), (7, 9),\n",
    "                (9, 7), (7, 5), (5, 3)\n",
    "            ]\n",
    "        ])\n",
    "        self.flat = nn.Flatten(start_dim=2)\n",
    "        self.logits = FeedbackModule()\n",
    "\n",
    "    @staticmethod\n",
    "    def conv_block(in_chans, out_chans):\n",
    "        return nn.Conv2d(\n",
    "            in_channels=in_chans,\n",
    "            out_channels=out_chans,\n",
    "            kernel_size=3,\n",
    "            stride=1,\n",
    "            padding=0\n",
    "        )\n",
    "\n",
    "    def forward(self, v, w):\n",
    "        v = self.convs(v)\n",
    "        v = self.flat(v)\n",
    "        x = self.logits(v, w)\n",
    "        return x\n",
    "\n",
    "\n",
    "B, C, H, W, L = 64, 3, 64, 128, 16\n",
    "v = torch.rand((B, C, H, W))\n",
    "w = torch.rand((B, C, L))\n",
    "D = Discriminator()\n",
    "y = D(v, w)\n",
    "print(y.size())"
   ],
   "metadata": {
    "collapsed": false,
    "pycharm": {
     "name": "#%%\n"
    }
   }
  },
  {
   "cell_type": "code",
   "execution_count": 8,
   "outputs": [
    {
     "name": "stdout",
     "output_type": "stream",
     "text": [
      "tensor([[[0.2319, 0.5504, 0.6496, 0.2657, 0.3881],\n",
      "         [0.5068, 0.0193, 0.1362, 0.5512, 0.6484],\n",
      "         [0.5681, 0.5599, 0.3909, 0.3808, 0.2570],\n",
      "         [0.4262, 0.1694, 0.2609, 0.6978, 0.4844]],\n",
      "\n",
      "        [[0.1334, 0.5566, 0.4525, 0.6715, 0.1295],\n",
      "         [0.7147, 0.3396, 0.1811, 0.3193, 0.4891],\n",
      "         [0.5128, 0.5032, 0.1271, 0.1696, 0.6625],\n",
      "         [0.3064, 0.3843, 0.6418, 0.4885, 0.3285]],\n",
      "\n",
      "        [[0.5637, 0.4500, 0.6596, 0.1522, 0.1466],\n",
      "         [0.4026, 0.4088, 0.4392, 0.1636, 0.6717],\n",
      "         [0.5613, 0.6017, 0.0755, 0.1579, 0.5406],\n",
      "         [0.3635, 0.3978, 0.4272, 0.6756, 0.2659]]])\n"
     ]
    }
   ],
   "source": [
    "a = torch.rand((3,4,5))\n",
    "a_1 = nn.functional.normalize(a, dim=1)\n",
    "a_1 = nn.functional.normalize(a_1, dim=2)\n",
    "print(a_1)"
   ],
   "metadata": {
    "collapsed": false,
    "pycharm": {
     "name": "#%%\n"
    }
   }
  }
 ],
 "metadata": {
  "kernelspec": {
   "display_name": "Python 3",
   "language": "python",
   "name": "python3"
  },
  "language_info": {
   "codemirror_mode": {
    "name": "ipython",
    "version": 2
   },
   "file_extension": ".py",
   "mimetype": "text/x-python",
   "name": "python",
   "nbconvert_exporter": "python",
   "pygments_lexer": "ipython2",
   "version": "2.7.6"
  }
 },
 "nbformat": 4,
 "nbformat_minor": 0
}