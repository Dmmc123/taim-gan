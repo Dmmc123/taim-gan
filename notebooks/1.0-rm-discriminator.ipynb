{
 "cells": [
  {
   "cell_type": "code",
   "execution_count": 39,
   "metadata": {
    "collapsed": true,
    "pycharm": {
     "name": "#%%\n"
    }
   },
   "outputs": [],
   "source": [
    "from typing import Any\n",
    "\n",
    "import torch\n",
    "from torch import nn"
   ]
  },
  {
   "cell_type": "code",
   "execution_count": 69,
   "outputs": [
    {
     "name": "stdout",
     "output_type": "stream",
     "text": [
      "torch.Size([64, 7])\n"
     ]
    }
   ],
   "source": [
    "class FeedbackModule(nn.Module):\n",
    "    \"\"\"API for converting regional feature maps into logits for multi-class classification\"\"\"\n",
    "\n",
    "    def __init__(self) -> None:\n",
    "        \"\"\"\n",
    "        Instantiate the module with softmax on channel dimension\n",
    "        \"\"\"\n",
    "        super().__init__()\n",
    "        self.softmax = nn.Softmax(dim=1)\n",
    "\n",
    "    def forward(\n",
    "            self, visual_features: torch.Tensor, textual_features: torch.Tensor\n",
    "    ) -> Any:\n",
    "        \"\"\"\n",
    "        Fuse two types of features together to get output for feeding into the classification loss\n",
    "        :param torch.Tensor visual_features:\n",
    "            Feature maps of an image after being processed by discriminator\n",
    "        :param torch.Tensor textual_features: Result of text encoder\n",
    "        :return: Logits for each word in the picture\n",
    "        :rtype: Any\n",
    "        \"\"\"\n",
    "        textual_features = torch.transpose(textual_features, 1, 2)\n",
    "        word_region_correlations = textual_features @ visual_features\n",
    "        # normalize across L dimension\n",
    "        m_norm_l = nn.functional.normalize(word_region_correlations, dim=1)\n",
    "        # normalize across H*W dimension\n",
    "        m_norm_hw = nn.functional.normalize(m_norm_l, dim=2)\n",
    "        m_norm_hw = torch.transpose(m_norm_hw, 1, 2)\n",
    "        weighted_img_feats = visual_features @ m_norm_hw\n",
    "        weighted_img_feats = torch.sum(weighted_img_feats, dim=1)\n",
    "        deltas = self.softmax(weighted_img_feats)\n",
    "        return deltas\n",
    "\n",
    "\n",
    "class Discriminator(nn.Module):\n",
    "    \"\"\"Simple CNN-based discriminator\"\"\"\n",
    "\n",
    "    def __init__(self, img_chans: int) -> None:\n",
    "        \"\"\"\n",
    "        Create a bunch of convolutions to extract features\n",
    "        :param int img_chans:\n",
    "            Amount of image channels and channels of text embeddings\n",
    "        \"\"\"\n",
    "        super().__init__()\n",
    "        self.convs = nn.Sequential(\n",
    "            *[\n",
    "                self.conv_block(in_chans, out_chans)\n",
    "                for in_chans, out_chans in [\n",
    "                    (img_chans, 5),\n",
    "                    (5, 7),\n",
    "                    (7, 9),\n",
    "                    (9, 7),\n",
    "                    (7, 5),\n",
    "                    (5, img_chans),\n",
    "                ]\n",
    "            ]\n",
    "        )\n",
    "        # skip batch and channel dims, flatten only feature maps\n",
    "        self.flat = nn.Flatten(start_dim=2)\n",
    "        self.logits = FeedbackModule()\n",
    "\n",
    "    @staticmethod\n",
    "    def conv_block(in_chans: int, out_chans: int) -> nn.Sequential:\n",
    "        \"\"\"\n",
    "        Simple feature extraction block followed by an activation function\n",
    "        :param int in_chans: Number of input channels for conv layer\n",
    "        :param int out_chans: Number of output channels for conv layer\n",
    "        :return: Reusable convolutional block to extract features\n",
    "        :rtype: Any\n",
    "        \"\"\"\n",
    "        return nn.Sequential(\n",
    "            nn.Conv2d(\n",
    "                in_channels=in_chans,\n",
    "                out_channels=out_chans,\n",
    "                kernel_size=3,\n",
    "                stride=1,\n",
    "                padding=0,\n",
    "            ),\n",
    "            nn.LeakyReLU(0.2),\n",
    "        )\n",
    "\n",
    "    def forward(self, images: torch.Tensor, textual_info: torch.Tensor) -> Any:\n",
    "        \"\"\"\n",
    "        Obtain regional features for images and return word logits from that image\n",
    "        :param images: Images to be analyzed\n",
    "        :param textual_info: Output of RNN (text encoder)\n",
    "        :return: Word-level feedback (logits) for presence of text in picture\n",
    "        :rtype: Any\n",
    "        \"\"\"\n",
    "        img_features = self.convs(images)\n",
    "        img_flat = self.flat(img_features)\n",
    "        logits = self.logits(img_flat, textual_info)\n",
    "        return logits\n",
    "\n",
    "B, C, H, W, L = 64, 2, 15, 15, 7\n",
    "v = torch.rand((B, C, H, W))\n",
    "w = torch.rand((B, C, L))\n",
    "D = Discriminator(img_chans=C)\n",
    "y = D(v, w)\n",
    "print(y.size())"
   ],
   "metadata": {
    "collapsed": false,
    "pycharm": {
     "name": "#%%\n"
    }
   }
  },
  {
   "cell_type": "code",
   "execution_count": 8,
   "outputs": [
    {
     "name": "stdout",
     "output_type": "stream",
     "text": [
      "tensor([[[0.2319, 0.5504, 0.6496, 0.2657, 0.3881],\n",
      "         [0.5068, 0.0193, 0.1362, 0.5512, 0.6484],\n",
      "         [0.5681, 0.5599, 0.3909, 0.3808, 0.2570],\n",
      "         [0.4262, 0.1694, 0.2609, 0.6978, 0.4844]],\n",
      "\n",
      "        [[0.1334, 0.5566, 0.4525, 0.6715, 0.1295],\n",
      "         [0.7147, 0.3396, 0.1811, 0.3193, 0.4891],\n",
      "         [0.5128, 0.5032, 0.1271, 0.1696, 0.6625],\n",
      "         [0.3064, 0.3843, 0.6418, 0.4885, 0.3285]],\n",
      "\n",
      "        [[0.5637, 0.4500, 0.6596, 0.1522, 0.1466],\n",
      "         [0.4026, 0.4088, 0.4392, 0.1636, 0.6717],\n",
      "         [0.5613, 0.6017, 0.0755, 0.1579, 0.5406],\n",
      "         [0.3635, 0.3978, 0.4272, 0.6756, 0.2659]]])\n"
     ]
    }
   ],
   "source": [
    "a = torch.rand((3,4,5))\n",
    "a_1 = nn.functional.normalize(a, dim=1)\n",
    "a_1 = nn.functional.normalize(a_1, dim=2)\n",
    "print(a_1)"
   ],
   "metadata": {
    "collapsed": false,
    "pycharm": {
     "name": "#%%\n"
    }
   }
  }
 ],
 "metadata": {
  "kernelspec": {
   "display_name": "Python 3",
   "language": "python",
   "name": "python3"
  },
  "language_info": {
   "codemirror_mode": {
    "name": "ipython",
    "version": 2
   },
   "file_extension": ".py",
   "mimetype": "text/x-python",
   "name": "python",
   "nbconvert_exporter": "python",
   "pygments_lexer": "ipython2",
   "version": "2.7.6"
  }
 },
 "nbformat": 4,
 "nbformat_minor": 0
}