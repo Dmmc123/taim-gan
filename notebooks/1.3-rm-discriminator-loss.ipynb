{
 "cells": [
  {
   "cell_type": "code",
   "execution_count": 1,
   "metadata": {
    "collapsed": true,
    "pycharm": {
     "name": "#%%\n"
    }
   },
   "outputs": [],
   "source": [
    "import torch\n",
    "\n",
    "from torch import nn"
   ]
  },
  {
   "cell_type": "code",
   "execution_count": 22,
   "outputs": [
    {
     "name": "stdout",
     "output_type": "stream",
     "text": [
      "tensor(0.7281)\n"
     ]
    }
   ],
   "source": [
    "batch = 64\n",
    "L = 17\n",
    "sigm = nn.Sigmoid()\n",
    "pred = torch.rand((batch, L))\n",
    "# pred = sigm(pred)\n",
    "true = torch.randint(0, 2, (batch, L)).float()\n",
    "criterion = nn.BCEWithLogitsLoss()\n",
    "print(criterion(pred, true))"
   ],
   "metadata": {
    "collapsed": false,
    "pycharm": {
     "name": "#%%\n"
    }
   }
  }
 ],
 "metadata": {
  "kernelspec": {
   "display_name": "Python 3",
   "language": "python",
   "name": "python3"
  },
  "language_info": {
   "codemirror_mode": {
    "name": "ipython",
    "version": 2
   },
   "file_extension": ".py",
   "mimetype": "text/x-python",
   "name": "python",
   "nbconvert_exporter": "python",
   "pygments_lexer": "ipython2",
   "version": "2.7.6"
  }
 },
 "nbformat": 4,
 "nbformat_minor": 0
}