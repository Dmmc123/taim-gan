{
 "cells": [
  {
   "cell_type": "code",
   "execution_count": 1,
   "metadata": {
    "collapsed": true,
    "pycharm": {
     "name": "#%%\n"
    }
   },
   "outputs": [],
   "source": [
    "from src.models.modules import (\n",
    "    Discriminator, Generator,\n",
    "    TextEncoder, VGGEncoder, InceptionEncoder\n",
    ")\n",
    "\n",
    "import torch"
   ]
  },
  {
   "cell_type": "code",
   "execution_count": 18,
   "outputs": [
    {
     "name": "stderr",
     "output_type": "stream",
     "text": [
      "Using cache found in /home/ruslan/.cache/torch/hub/pytorch_vision_v0.10.0\n",
      "Using cache found in /home/ruslan/.cache/torch/hub/pytorch_vision_v0.10.0\n",
      "Using cache found in /home/ruslan/.cache/torch/hub/pytorch_vision_v0.10.0\n"
     ]
    },
    {
     "name": "stdout",
     "output_type": "stream",
     "text": [
      "gotem\n"
     ]
    }
   ],
   "source": [
    "img_chans = 3 # RGB channels for image\n",
    "img_hw = 256 # height and width of images\n",
    "hidden_dim = 256 # hidden dimensions of lstm cell in one direction\n",
    "\n",
    "Ng = 64 # depth of feature maps\n",
    "cond_dim = 50 # length of conditioning vector\n",
    "z_dim = 20 # length of a noise vector\n",
    "vocab_size = 133 # amount of unique words in all textual input\n",
    "word_emb_dim = 23 # length of embeddings for each word\n",
    "batch_size = 4 # amount of samples in one training batch\n",
    "L = 10 # amount of words in one input string\n",
    "\n",
    "D = Discriminator(emb_len=hidden_dim)\n",
    "G = Generator(Ng=Ng, D=hidden_dim, conditioning_dim=cond_dim, noise_dim=z_dim)\n",
    "lstm = TextEncoder(vocab_size=vocab_size, emb_dim=word_emb_dim, hidden_dim=hidden_dim)\n",
    "vgg = VGGEncoder()\n",
    "inception = InceptionEncoder(hidden_dim)\n",
    "\n",
    "# generate some noise\n",
    "noise = torch.rand((batch_size, z_dim))\n",
    "# generate inout for textual encoders and get word and sentence embeddings\n",
    "tokens = torch.randint(0, vocab_size, (batch_size, L))\n",
    "word_embs, sent_embs = lstm(tokens)\n",
    "# generate visual features from vgg and inception\n",
    "images = torch.rand((batch_size, img_chans, img_hw, img_hw))\n",
    "vgg_features = vgg(images)\n",
    "local_features, global_features = inception(images)\n",
    "# obtain fake images\n",
    "fake_images, _, _ = G(noise, sent_embs, word_embs, global_features, local_features, vgg_features)\n",
    "# propagate fake images through discriminator and get logits\n",
    "logits = D(fake_images, word_embs)\n",
    "print(\"gotem\")"
   ],
   "metadata": {
    "collapsed": false,
    "pycharm": {
     "name": "#%%\n"
    }
   }
  }
 ],
 "metadata": {
  "kernelspec": {
   "display_name": "Python 3",
   "language": "python",
   "name": "python3"
  },
  "language_info": {
   "codemirror_mode": {
    "name": "ipython",
    "version": 2
   },
   "file_extension": ".py",
   "mimetype": "text/x-python",
   "name": "python",
   "nbconvert_exporter": "python",
   "pygments_lexer": "ipython2",
   "version": "2.7.6"
  }
 },
 "nbformat": 4,
 "nbformat_minor": 0
}